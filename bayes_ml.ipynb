{
 "cells": [
  {
   "cell_type": "code",
   "execution_count": 8,
   "metadata": {},
   "outputs": [],
   "source": [
    "import numpy as np\n",
    "import matplotlib.pyplot as plt"
   ]
  },
  {
   "cell_type": "markdown",
   "metadata": {},
   "source": [
    "# ベイズ推論による機械学習入門\n",
    "## 第一章"
   ]
  },
  {
   "cell_type": "code",
   "execution_count": 12,
   "metadata": {},
   "outputs": [
    {
     "name": "stdout",
     "output_type": "stream",
     "text": [
      "[ 1.96283414 -0.89576428]\n"
     ]
    },
    {
     "data": {
      "image/png": "[encoded data removed]",
      "text/plain": [
       "<matplotlib.figure.Figure at 0x7f95c4b9f5f8>"
      ]
     },
     "metadata": {},
     "output_type": "display_data"
    }
   ],
   "source": [
    "def bayes_and_ls():\n",
    "    '''\n",
    "    ベイズ推論と最小二乗法の比較.\n",
    "    y = ax+b+epsilon_y に従うyを生成する．\n",
    "    '''\n",
    "    #データ生成\n",
    "    np.random.seed(0)\n",
    "    num = 100\n",
    "    x = np.linspace(0.0,4.0,num)\n",
    "    epsilon_y = np.random.normal(0.0,0.5,num)\n",
    "    params_ac = np.array([2.0,-1.0])#実際のa,b\n",
    "    y = params_ac[0]*x+params_ac[1]+epsilon_y\n",
    "    \n",
    "    #最小二乗法でパラメータ推定\n",
    "    params_es = np.polyfit(x,y,1)#1次で近似\n",
    "    \n",
    "    \n",
    "    print(params_es)\n",
    "    plt.scatter(x,y)\n",
    "    plt.show()\n",
    "    \n",
    "bayes_and_ls()"
   ]
  }
 ],
 "metadata": {
  "kernelspec": {
   "display_name": "Python 3",
   "language": "python",
   "name": "python3"
  },
  "language_info": {
   "codemirror_mode": {
    "name": "ipython",
    "version": 3
   },
   "file_extension": ".py",
   "mimetype": "text/x-python",
   "name": "python",
   "nbconvert_exporter": "python",
   "pygments_lexer": "ipython3",
   "version": "3.6.4"
  }
 },
 "nbformat": 4,
 "nbformat_minor": 2
}
